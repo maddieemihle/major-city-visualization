{
 "cells": [
  {
   "cell_type": "markdown",
   "metadata": {},
   "source": [
    "# Houston Dataset"
   ]
  },
  {
   "cell_type": "code",
   "execution_count": 1,
   "metadata": {},
   "outputs": [],
   "source": [
    "# Import dependencies\n",
    "import os\n",
    "import csv\n",
    "import pandas as pd"
   ]
  },
  {
   "cell_type": "markdown",
   "metadata": {},
   "source": [
    "## Demographic Metric\n",
    "\n",
    "**Measuring**: ACS Population Density, Median Age, Education Level\n",
    "\n",
    "Data was pulled from the 2020 Houston Census Database and the American Community Survey (ACS) by the U.S. Census Bureau using various coded tables to ensure unified data for each metropolitan city. Two tables used the same code and were seperated to ensure proper measurement. \n",
    "* ACS Population Density: Table DP05\n",
    "* Median Age: Table DP05\n",
    "* Education Level: S1501"
   ]
  },
  {
   "cell_type": "markdown",
   "metadata": {},
   "source": [
    "##### ACS Population Density & Median Age (Table DP05)"
   ]
  },
  {
   "cell_type": "code",
   "execution_count": 2,
   "metadata": {},
   "outputs": [
    {
     "data": {
      "text/html": [
       "<div>\n",
       "<style scoped>\n",
       "    .dataframe tbody tr th:only-of-type {\n",
       "        vertical-align: middle;\n",
       "    }\n",
       "\n",
       "    .dataframe tbody tr th {\n",
       "        vertical-align: top;\n",
       "    }\n",
       "\n",
       "    .dataframe thead th {\n",
       "        text-align: right;\n",
       "    }\n",
       "</style>\n",
       "<table border=\"1\" class=\"dataframe\">\n",
       "  <thead>\n",
       "    <tr style=\"text-align: right;\">\n",
       "      <th></th>\n",
       "      <th>Label (Grouping)</th>\n",
       "      <th>SEX AND AGE!!Total population</th>\n",
       "      <th>SEX AND AGE!!Total population!!Under 5 years</th>\n",
       "      <th>SEX AND AGE!!Total population!!5 to 9 years</th>\n",
       "      <th>SEX AND AGE!!Total population!!10 to 14 years</th>\n",
       "      <th>SEX AND AGE!!Total population!!15 to 19 years</th>\n",
       "      <th>SEX AND AGE!!Total population!!20 to 24 years</th>\n",
       "      <th>SEX AND AGE!!Total population!!25 to 34 years</th>\n",
       "      <th>SEX AND AGE!!Total population!!35 to 44 years</th>\n",
       "      <th>SEX AND AGE!!Total population!!45 to 54 years</th>\n",
       "      <th>SEX AND AGE!!Total population!!55 to 59 years</th>\n",
       "      <th>SEX AND AGE!!Total population!!60 to 64 years</th>\n",
       "      <th>SEX AND AGE!!Total population!!65 to 74 years</th>\n",
       "      <th>SEX AND AGE!!Total population!!75 to 84 years</th>\n",
       "      <th>SEX AND AGE!!Total population!!85 years and over</th>\n",
       "      <th>SEX AND AGE!!Total population!!Median age (years)</th>\n",
       "    </tr>\n",
       "  </thead>\n",
       "  <tbody>\n",
       "    <tr>\n",
       "      <th>0</th>\n",
       "      <td>Harris County, Texas</td>\n",
       "      <td>NaN</td>\n",
       "      <td>NaN</td>\n",
       "      <td>NaN</td>\n",
       "      <td>NaN</td>\n",
       "      <td>NaN</td>\n",
       "      <td>NaN</td>\n",
       "      <td>NaN</td>\n",
       "      <td>NaN</td>\n",
       "      <td>NaN</td>\n",
       "      <td>NaN</td>\n",
       "      <td>NaN</td>\n",
       "      <td>NaN</td>\n",
       "      <td>NaN</td>\n",
       "      <td>NaN</td>\n",
       "      <td>NaN</td>\n",
       "    </tr>\n",
       "    <tr>\n",
       "      <th>1</th>\n",
       "      <td>Estimate</td>\n",
       "      <td>4,835,125</td>\n",
       "      <td>323,950</td>\n",
       "      <td>342,195</td>\n",
       "      <td>353,847</td>\n",
       "      <td>346,582</td>\n",
       "      <td>328,705</td>\n",
       "      <td>734,824</td>\n",
       "      <td>706,339</td>\n",
       "      <td>601,580</td>\n",
       "      <td>266,006</td>\n",
       "      <td>245,511</td>\n",
       "      <td>365,995</td>\n",
       "      <td>171,533</td>\n",
       "      <td>48,058</td>\n",
       "      <td>34.8</td>\n",
       "    </tr>\n",
       "    <tr>\n",
       "      <th>2</th>\n",
       "      <td>Percent</td>\n",
       "      <td>4,835,125</td>\n",
       "      <td>6.7%</td>\n",
       "      <td>7.1%</td>\n",
       "      <td>7.3%</td>\n",
       "      <td>7.2%</td>\n",
       "      <td>6.8%</td>\n",
       "      <td>15.2%</td>\n",
       "      <td>14.6%</td>\n",
       "      <td>12.4%</td>\n",
       "      <td>5.5%</td>\n",
       "      <td>5.1%</td>\n",
       "      <td>7.6%</td>\n",
       "      <td>3.5%</td>\n",
       "      <td>1.0%</td>\n",
       "      <td>(X)</td>\n",
       "    </tr>\n",
       "  </tbody>\n",
       "</table>\n",
       "</div>"
      ],
      "text/plain": [
       "       Label (Grouping) SEX AND AGE!!Total population  \\\n",
       "0  Harris County, Texas                           NaN   \n",
       "1              Estimate                     4,835,125   \n",
       "2               Percent                     4,835,125   \n",
       "\n",
       "  SEX AND AGE!!Total population!!Under 5 years  \\\n",
       "0                                          NaN   \n",
       "1                                      323,950   \n",
       "2                                         6.7%   \n",
       "\n",
       "  SEX AND AGE!!Total population!!5 to 9 years  \\\n",
       "0                                         NaN   \n",
       "1                                     342,195   \n",
       "2                                        7.1%   \n",
       "\n",
       "  SEX AND AGE!!Total population!!10 to 14 years  \\\n",
       "0                                           NaN   \n",
       "1                                       353,847   \n",
       "2                                          7.3%   \n",
       "\n",
       "  SEX AND AGE!!Total population!!15 to 19 years  \\\n",
       "0                                           NaN   \n",
       "1                                       346,582   \n",
       "2                                          7.2%   \n",
       "\n",
       "  SEX AND AGE!!Total population!!20 to 24 years  \\\n",
       "0                                           NaN   \n",
       "1                                       328,705   \n",
       "2                                          6.8%   \n",
       "\n",
       "  SEX AND AGE!!Total population!!25 to 34 years  \\\n",
       "0                                           NaN   \n",
       "1                                       734,824   \n",
       "2                                         15.2%   \n",
       "\n",
       "  SEX AND AGE!!Total population!!35 to 44 years  \\\n",
       "0                                           NaN   \n",
       "1                                       706,339   \n",
       "2                                         14.6%   \n",
       "\n",
       "  SEX AND AGE!!Total population!!45 to 54 years  \\\n",
       "0                                           NaN   \n",
       "1                                       601,580   \n",
       "2                                         12.4%   \n",
       "\n",
       "  SEX AND AGE!!Total population!!55 to 59 years  \\\n",
       "0                                           NaN   \n",
       "1                                       266,006   \n",
       "2                                          5.5%   \n",
       "\n",
       "  SEX AND AGE!!Total population!!60 to 64 years  \\\n",
       "0                                           NaN   \n",
       "1                                       245,511   \n",
       "2                                          5.1%   \n",
       "\n",
       "  SEX AND AGE!!Total population!!65 to 74 years  \\\n",
       "0                                           NaN   \n",
       "1                                       365,995   \n",
       "2                                          7.6%   \n",
       "\n",
       "  SEX AND AGE!!Total population!!75 to 84 years  \\\n",
       "0                                           NaN   \n",
       "1                                       171,533   \n",
       "2                                          3.5%   \n",
       "\n",
       "  SEX AND AGE!!Total population!!85 years and over  \\\n",
       "0                                              NaN   \n",
       "1                                           48,058   \n",
       "2                                             1.0%   \n",
       "\n",
       "  SEX AND AGE!!Total population!!Median age (years)  \n",
       "0                                               NaN  \n",
       "1                                              34.8  \n",
       "2                                               (X)  "
      ]
     },
     "execution_count": 2,
     "metadata": {},
     "output_type": "execute_result"
    }
   ],
   "source": [
    "# Import csv file for Texas ACS Population Density\n",
    "houston_age_data = '../houston_data/houston_raw_csv/houston_age.csv'\n",
    "\n",
    "# Read the CSV file into a DataFrame\n",
    "houston_age_df = pd.read_csv(houston_age_data)\n",
    "houston_age_df.head()"
   ]
  },
  {
   "cell_type": "code",
   "execution_count": 3,
   "metadata": {},
   "outputs": [
    {
     "name": "stdout",
     "output_type": "stream",
     "text": [
      "Label (Grouping)                                     object\n",
      "SEX AND AGE!!Total population                        object\n",
      "SEX AND AGE!!Total population!!Under 5 years         object\n",
      "SEX AND AGE!!Total population!!5 to 9 years          object\n",
      "SEX AND AGE!!Total population!!10 to 14 years        object\n",
      "SEX AND AGE!!Total population!!15 to 19 years        object\n",
      "SEX AND AGE!!Total population!!20 to 24 years        object\n",
      "SEX AND AGE!!Total population!!25 to 34 years        object\n",
      "SEX AND AGE!!Total population!!35 to 44 years        object\n",
      "SEX AND AGE!!Total population!!45 to 54 years        object\n",
      "SEX AND AGE!!Total population!!55 to 59 years        object\n",
      "SEX AND AGE!!Total population!!60 to 64 years        object\n",
      "SEX AND AGE!!Total population!!65 to 74 years        object\n",
      "SEX AND AGE!!Total population!!75 to 84 years        object\n",
      "SEX AND AGE!!Total population!!85 years and over     object\n",
      "SEX AND AGE!!Total population!!Median age (years)    object\n",
      "dtype: object\n"
     ]
    }
   ],
   "source": [
    "# Display column names and data types\n",
    "print(houston_age_df.dtypes)\n"
   ]
  },
  {
   "cell_type": "code",
   "execution_count": 4,
   "metadata": {},
   "outputs": [
    {
     "data": {
      "text/html": [
       "<div>\n",
       "<style scoped>\n",
       "    .dataframe tbody tr th:only-of-type {\n",
       "        vertical-align: middle;\n",
       "    }\n",
       "\n",
       "    .dataframe tbody tr th {\n",
       "        vertical-align: top;\n",
       "    }\n",
       "\n",
       "    .dataframe thead th {\n",
       "        text-align: right;\n",
       "    }\n",
       "</style>\n",
       "<table border=\"1\" class=\"dataframe\">\n",
       "  <thead>\n",
       "    <tr style=\"text-align: right;\">\n",
       "      <th></th>\n",
       "      <th>Label (Grouping)</th>\n",
       "      <th>Total population</th>\n",
       "      <th>Total population!!Under 5 years</th>\n",
       "      <th>Total population!!5 to 9 years</th>\n",
       "      <th>Total population!!10 to 14 years</th>\n",
       "      <th>Total population!!15 to 19 years</th>\n",
       "      <th>Total population!!20 to 24 years</th>\n",
       "      <th>Total population!!25 to 34 years</th>\n",
       "      <th>Total population!!35 to 44 years</th>\n",
       "      <th>Total population!!45 to 54 years</th>\n",
       "      <th>Total population!!55 to 59 years</th>\n",
       "      <th>Total population!!60 to 64 years</th>\n",
       "      <th>Total population!!65 to 74 years</th>\n",
       "      <th>Total population!!75 to 84 years</th>\n",
       "      <th>Total population!!85 years and over</th>\n",
       "      <th>Total population!!Median age (years)</th>\n",
       "    </tr>\n",
       "  </thead>\n",
       "  <tbody>\n",
       "    <tr>\n",
       "      <th>1</th>\n",
       "      <td>Estimate</td>\n",
       "      <td>4,835,125</td>\n",
       "      <td>323,950</td>\n",
       "      <td>342,195</td>\n",
       "      <td>353,847</td>\n",
       "      <td>346,582</td>\n",
       "      <td>328,705</td>\n",
       "      <td>734,824</td>\n",
       "      <td>706,339</td>\n",
       "      <td>601,580</td>\n",
       "      <td>266,006</td>\n",
       "      <td>245,511</td>\n",
       "      <td>365,995</td>\n",
       "      <td>171,533</td>\n",
       "      <td>48,058</td>\n",
       "      <td>34.8</td>\n",
       "    </tr>\n",
       "    <tr>\n",
       "      <th>2</th>\n",
       "      <td>Percent</td>\n",
       "      <td>4,835,125</td>\n",
       "      <td>6.7%</td>\n",
       "      <td>7.1%</td>\n",
       "      <td>7.3%</td>\n",
       "      <td>7.2%</td>\n",
       "      <td>6.8%</td>\n",
       "      <td>15.2%</td>\n",
       "      <td>14.6%</td>\n",
       "      <td>12.4%</td>\n",
       "      <td>5.5%</td>\n",
       "      <td>5.1%</td>\n",
       "      <td>7.6%</td>\n",
       "      <td>3.5%</td>\n",
       "      <td>1.0%</td>\n",
       "      <td>(X)</td>\n",
       "    </tr>\n",
       "  </tbody>\n",
       "</table>\n",
       "</div>"
      ],
      "text/plain": [
       "  Label (Grouping) Total population Total population!!Under 5 years  \\\n",
       "1         Estimate        4,835,125                         323,950   \n",
       "2          Percent        4,835,125                            6.7%   \n",
       "\n",
       "  Total population!!5 to 9 years Total population!!10 to 14 years  \\\n",
       "1                        342,195                          353,847   \n",
       "2                           7.1%                             7.3%   \n",
       "\n",
       "  Total population!!15 to 19 years Total population!!20 to 24 years  \\\n",
       "1                          346,582                          328,705   \n",
       "2                             7.2%                             6.8%   \n",
       "\n",
       "  Total population!!25 to 34 years Total population!!35 to 44 years  \\\n",
       "1                          734,824                          706,339   \n",
       "2                            15.2%                            14.6%   \n",
       "\n",
       "  Total population!!45 to 54 years Total population!!55 to 59 years  \\\n",
       "1                          601,580                          266,006   \n",
       "2                            12.4%                             5.5%   \n",
       "\n",
       "  Total population!!60 to 64 years Total population!!65 to 74 years  \\\n",
       "1                          245,511                          365,995   \n",
       "2                             5.1%                             7.6%   \n",
       "\n",
       "  Total population!!75 to 84 years Total population!!85 years and over  \\\n",
       "1                          171,533                              48,058   \n",
       "2                             3.5%                                1.0%   \n",
       "\n",
       "  Total population!!Median age (years)  \n",
       "1                                 34.8  \n",
       "2                                  (X)  "
      ]
     },
     "execution_count": 4,
     "metadata": {},
     "output_type": "execute_result"
    }
   ],
   "source": [
    "# Remove 'SEX AND AGE' from every column name\n",
    "houston_age_df.columns = houston_age_df.columns.str.replace('SEX AND AGE!!', '')\n",
    "\n",
    "# Drop NaN values\n",
    "houston_age_df.dropna(inplace=True)\n",
    "\n",
    "# Display the updated DataFrame\n",
    "houston_age_df.head()"
   ]
  },
  {
   "cell_type": "code",
   "execution_count": 5,
   "metadata": {},
   "outputs": [
    {
     "data": {
      "text/html": [
       "<div>\n",
       "<style scoped>\n",
       "    .dataframe tbody tr th:only-of-type {\n",
       "        vertical-align: middle;\n",
       "    }\n",
       "\n",
       "    .dataframe tbody tr th {\n",
       "        vertical-align: top;\n",
       "    }\n",
       "\n",
       "    .dataframe thead th {\n",
       "        text-align: right;\n",
       "    }\n",
       "</style>\n",
       "<table border=\"1\" class=\"dataframe\">\n",
       "  <thead>\n",
       "    <tr style=\"text-align: right;\">\n",
       "      <th></th>\n",
       "      <th>Houston Age Population</th>\n",
       "      <th>Total Population</th>\n",
       "      <th>Under 5</th>\n",
       "      <th>5 to 9</th>\n",
       "      <th>10 to 14</th>\n",
       "      <th>15 to 19</th>\n",
       "      <th>20 to 24</th>\n",
       "      <th>25 to 34</th>\n",
       "      <th>35 to 44</th>\n",
       "      <th>45 to 54</th>\n",
       "      <th>55 to 59</th>\n",
       "      <th>60 to 64</th>\n",
       "      <th>65 to 74</th>\n",
       "      <th>75 to 84</th>\n",
       "      <th>85 and Over</th>\n",
       "      <th>Median Age</th>\n",
       "    </tr>\n",
       "  </thead>\n",
       "  <tbody>\n",
       "    <tr>\n",
       "      <th>1</th>\n",
       "      <td>Estimate</td>\n",
       "      <td>4,835,125</td>\n",
       "      <td>323,950</td>\n",
       "      <td>342,195</td>\n",
       "      <td>353,847</td>\n",
       "      <td>346,582</td>\n",
       "      <td>328,705</td>\n",
       "      <td>734,824</td>\n",
       "      <td>706,339</td>\n",
       "      <td>601,580</td>\n",
       "      <td>266,006</td>\n",
       "      <td>245,511</td>\n",
       "      <td>365,995</td>\n",
       "      <td>171,533</td>\n",
       "      <td>48,058</td>\n",
       "      <td>34.8</td>\n",
       "    </tr>\n",
       "    <tr>\n",
       "      <th>2</th>\n",
       "      <td>Percent</td>\n",
       "      <td>4,835,125</td>\n",
       "      <td>6.7%</td>\n",
       "      <td>7.1%</td>\n",
       "      <td>7.3%</td>\n",
       "      <td>7.2%</td>\n",
       "      <td>6.8%</td>\n",
       "      <td>15.2%</td>\n",
       "      <td>14.6%</td>\n",
       "      <td>12.4%</td>\n",
       "      <td>5.5%</td>\n",
       "      <td>5.1%</td>\n",
       "      <td>7.6%</td>\n",
       "      <td>3.5%</td>\n",
       "      <td>1.0%</td>\n",
       "      <td>(X)</td>\n",
       "    </tr>\n",
       "  </tbody>\n",
       "</table>\n",
       "</div>"
      ],
      "text/plain": [
       "  Houston Age Population Total Population  Under 5   5 to 9 10 to 14 15 to 19  \\\n",
       "1               Estimate        4,835,125  323,950  342,195  353,847  346,582   \n",
       "2                Percent        4,835,125     6.7%     7.1%     7.3%     7.2%   \n",
       "\n",
       "  20 to 24 25 to 34 35 to 44 45 to 54 55 to 59 60 to 64 65 to 74 75 to 84  \\\n",
       "1  328,705  734,824  706,339  601,580  266,006  245,511  365,995  171,533   \n",
       "2     6.8%    15.2%    14.6%    12.4%     5.5%     5.1%     7.6%     3.5%   \n",
       "\n",
       "  85 and Over Median Age  \n",
       "1      48,058       34.8  \n",
       "2        1.0%        (X)  "
      ]
     },
     "execution_count": 5,
     "metadata": {},
     "output_type": "execute_result"
    }
   ],
   "source": [
    "# Rename columns for clarity\n",
    "houston_age_df.columns = ['Houston Age Population',\n",
    "  'Total Population',\n",
    "  'Under 5',\n",
    "  '5 to 9',\n",
    "  '10 to 14',\n",
    "  '15 to 19',\n",
    "  '20 to 24',\n",
    "  '25 to 34',\n",
    "  '35 to 44',\n",
    "  '45 to 54',\n",
    "  '55 to 59',\n",
    "  '60 to 64',\n",
    "  '65 to 74',\n",
    "  '75 to 84',\n",
    "  '85 and Over',\n",
    "  'Median Age'\n",
    "]\n",
    "\n",
    "houston_age_df.head()"
   ]
  },
  {
   "cell_type": "code",
   "execution_count": 6,
   "metadata": {},
   "outputs": [],
   "source": [
    "# Save the cleaned DataFrame to a new CSV file\n",
    "houston_age_df.to_csv('../houston_data/cleaned_hou_age.csv', index=False)"
   ]
  },
  {
   "cell_type": "markdown",
   "metadata": {},
   "source": [
    "#### Race (Table DP05)"
   ]
  },
  {
   "cell_type": "code",
   "execution_count": 7,
   "metadata": {},
   "outputs": [
    {
     "data": {
      "text/html": [
       "<div>\n",
       "<style scoped>\n",
       "    .dataframe tbody tr th:only-of-type {\n",
       "        vertical-align: middle;\n",
       "    }\n",
       "\n",
       "    .dataframe tbody tr th {\n",
       "        vertical-align: top;\n",
       "    }\n",
       "\n",
       "    .dataframe thead th {\n",
       "        text-align: right;\n",
       "    }\n",
       "</style>\n",
       "<table border=\"1\" class=\"dataframe\">\n",
       "  <thead>\n",
       "    <tr style=\"text-align: right;\">\n",
       "      <th></th>\n",
       "      <th>Label (Grouping)</th>\n",
       "      <th>Race alone or in combination with one or more other races!!Total population</th>\n",
       "      <th>Race alone or in combination with one or more other races!!Total population!!White</th>\n",
       "      <th>Race alone or in combination with one or more other races!!Total population!!Black or African American</th>\n",
       "      <th>Race alone or in combination with one or more other races!!Total population!!American Indian and Alaska Native</th>\n",
       "      <th>Race alone or in combination with one or more other races!!Total population!!Asian</th>\n",
       "      <th>Race alone or in combination with one or more other races!!Total population!!Native Hawaiian and Other Pacific Islander</th>\n",
       "      <th>Race alone or in combination with one or more other races!!Total population!!Some Other Race</th>\n",
       "    </tr>\n",
       "  </thead>\n",
       "  <tbody>\n",
       "    <tr>\n",
       "      <th>0</th>\n",
       "      <td>Harris County, Texas</td>\n",
       "      <td>NaN</td>\n",
       "      <td>NaN</td>\n",
       "      <td>NaN</td>\n",
       "      <td>NaN</td>\n",
       "      <td>NaN</td>\n",
       "      <td>NaN</td>\n",
       "      <td>NaN</td>\n",
       "    </tr>\n",
       "    <tr>\n",
       "      <th>1</th>\n",
       "      <td>Estimate</td>\n",
       "      <td>4,835,125</td>\n",
       "      <td>2,666,766</td>\n",
       "      <td>1,046,412</td>\n",
       "      <td>141,031</td>\n",
       "      <td>409,092</td>\n",
       "      <td>12,471</td>\n",
       "      <td>1,722,952</td>\n",
       "    </tr>\n",
       "    <tr>\n",
       "      <th>2</th>\n",
       "      <td>Percent</td>\n",
       "      <td>4,835,125</td>\n",
       "      <td>55.2%</td>\n",
       "      <td>21.6%</td>\n",
       "      <td>2.9%</td>\n",
       "      <td>8.5%</td>\n",
       "      <td>0.3%</td>\n",
       "      <td>35.6%</td>\n",
       "    </tr>\n",
       "  </tbody>\n",
       "</table>\n",
       "</div>"
      ],
      "text/plain": [
       "       Label (Grouping)  \\\n",
       "0  Harris County, Texas   \n",
       "1              Estimate   \n",
       "2               Percent   \n",
       "\n",
       "  Race alone or in combination with one or more other races!!Total population  \\\n",
       "0                                                NaN                            \n",
       "1                                          4,835,125                            \n",
       "2                                          4,835,125                            \n",
       "\n",
       "  Race alone or in combination with one or more other races!!Total population!!White  \\\n",
       "0                                                NaN                                   \n",
       "1                                          2,666,766                                   \n",
       "2                                              55.2%                                   \n",
       "\n",
       "  Race alone or in combination with one or more other races!!Total population!!Black or African American  \\\n",
       "0                                                NaN                                                       \n",
       "1                                          1,046,412                                                       \n",
       "2                                              21.6%                                                       \n",
       "\n",
       "  Race alone or in combination with one or more other races!!Total population!!American Indian and Alaska Native  \\\n",
       "0                                                NaN                                                               \n",
       "1                                            141,031                                                               \n",
       "2                                               2.9%                                                               \n",
       "\n",
       "  Race alone or in combination with one or more other races!!Total population!!Asian  \\\n",
       "0                                                NaN                                   \n",
       "1                                            409,092                                   \n",
       "2                                               8.5%                                   \n",
       "\n",
       "  Race alone or in combination with one or more other races!!Total population!!Native Hawaiian and Other Pacific Islander  \\\n",
       "0                                                NaN                                                                        \n",
       "1                                             12,471                                                                        \n",
       "2                                               0.3%                                                                        \n",
       "\n",
       "  Race alone or in combination with one or more other races!!Total population!!Some Other Race  \n",
       "0                                                NaN                                            \n",
       "1                                          1,722,952                                            \n",
       "2                                              35.6%                                            "
      ]
     },
     "execution_count": 7,
     "metadata": {},
     "output_type": "execute_result"
    }
   ],
   "source": [
    "# Import csv file for race\n",
    "houston_race_data = \"../houston_data/houston_raw_csv/houston_race.csv\"\n",
    "\n",
    "# Read the CSV file into a DataFrame\n",
    "houston_race_df = pd.read_csv(houston_race_data)\n",
    "houston_race_df.head()"
   ]
  },
  {
   "cell_type": "code",
   "execution_count": 8,
   "metadata": {},
   "outputs": [],
   "source": [
    "# Drop all NaN Values\n",
    "houston_race_df = houston_race_df.dropna()"
   ]
  },
  {
   "cell_type": "code",
   "execution_count": 9,
   "metadata": {},
   "outputs": [
    {
     "data": {
      "text/html": [
       "<div>\n",
       "<style scoped>\n",
       "    .dataframe tbody tr th:only-of-type {\n",
       "        vertical-align: middle;\n",
       "    }\n",
       "\n",
       "    .dataframe tbody tr th {\n",
       "        vertical-align: top;\n",
       "    }\n",
       "\n",
       "    .dataframe thead th {\n",
       "        text-align: right;\n",
       "    }\n",
       "</style>\n",
       "<table border=\"1\" class=\"dataframe\">\n",
       "  <thead>\n",
       "    <tr style=\"text-align: right;\">\n",
       "      <th></th>\n",
       "      <th>Label (Grouping)</th>\n",
       "      <th>Race alone or in combination with one or more other races!!Total population</th>\n",
       "      <th>White</th>\n",
       "      <th>Black or African American</th>\n",
       "      <th>American Indian and Alaska Native</th>\n",
       "      <th>Asian</th>\n",
       "      <th>Native Hawaiian and Other Pacific Islander</th>\n",
       "      <th>Some Other Race</th>\n",
       "    </tr>\n",
       "  </thead>\n",
       "  <tbody>\n",
       "    <tr>\n",
       "      <th>1</th>\n",
       "      <td>Estimate</td>\n",
       "      <td>4,835,125</td>\n",
       "      <td>2,666,766</td>\n",
       "      <td>1,046,412</td>\n",
       "      <td>141,031</td>\n",
       "      <td>409,092</td>\n",
       "      <td>12,471</td>\n",
       "      <td>1,722,952</td>\n",
       "    </tr>\n",
       "    <tr>\n",
       "      <th>2</th>\n",
       "      <td>Percent</td>\n",
       "      <td>4,835,125</td>\n",
       "      <td>55.2%</td>\n",
       "      <td>21.6%</td>\n",
       "      <td>2.9%</td>\n",
       "      <td>8.5%</td>\n",
       "      <td>0.3%</td>\n",
       "      <td>35.6%</td>\n",
       "    </tr>\n",
       "  </tbody>\n",
       "</table>\n",
       "</div>"
      ],
      "text/plain": [
       "  Label (Grouping)  \\\n",
       "1         Estimate   \n",
       "2          Percent   \n",
       "\n",
       "  Race alone or in combination with one or more other races!!Total population  \\\n",
       "1                                          4,835,125                            \n",
       "2                                          4,835,125                            \n",
       "\n",
       "       White Black or African American American Indian and Alaska Native  \\\n",
       "1  2,666,766                 1,046,412                           141,031   \n",
       "2      55.2%                     21.6%                              2.9%   \n",
       "\n",
       "     Asian Native Hawaiian and Other Pacific Islander Some Other Race  \n",
       "1  409,092                                     12,471       1,722,952  \n",
       "2     8.5%                                       0.3%           35.6%  "
      ]
     },
     "execution_count": 9,
     "metadata": {},
     "output_type": "execute_result"
    }
   ],
   "source": [
    "# Rename columns to remove 'Race alone or in combination with one or more other races!!Total population!!' from the column names\n",
    "houston_race_df.columns = houston_race_df.columns.str.replace('Race alone or in combination with one or more other races!!Total population!!', '')\n",
    "houston_race_df.head()"
   ]
  },
  {
   "cell_type": "code",
   "execution_count": 10,
   "metadata": {},
   "outputs": [
    {
     "data": {
      "text/html": [
       "<div>\n",
       "<style scoped>\n",
       "    .dataframe tbody tr th:only-of-type {\n",
       "        vertical-align: middle;\n",
       "    }\n",
       "\n",
       "    .dataframe tbody tr th {\n",
       "        vertical-align: top;\n",
       "    }\n",
       "\n",
       "    .dataframe thead th {\n",
       "        text-align: right;\n",
       "    }\n",
       "</style>\n",
       "<table border=\"1\" class=\"dataframe\">\n",
       "  <thead>\n",
       "    <tr style=\"text-align: right;\">\n",
       "      <th></th>\n",
       "      <th>Houston, TX</th>\n",
       "      <th>Total Population</th>\n",
       "      <th>White</th>\n",
       "      <th>Black or African American</th>\n",
       "      <th>American Indian and Alaska Native</th>\n",
       "      <th>Asian</th>\n",
       "      <th>Native Hawaiian and Other Pacific Islander</th>\n",
       "      <th>Other</th>\n",
       "    </tr>\n",
       "  </thead>\n",
       "  <tbody>\n",
       "    <tr>\n",
       "      <th>1</th>\n",
       "      <td>Estimate</td>\n",
       "      <td>4,835,125</td>\n",
       "      <td>2,666,766</td>\n",
       "      <td>1,046,412</td>\n",
       "      <td>141,031</td>\n",
       "      <td>409,092</td>\n",
       "      <td>12,471</td>\n",
       "      <td>1,722,952</td>\n",
       "    </tr>\n",
       "    <tr>\n",
       "      <th>2</th>\n",
       "      <td>Percent</td>\n",
       "      <td>4,835,125</td>\n",
       "      <td>55.2%</td>\n",
       "      <td>21.6%</td>\n",
       "      <td>2.9%</td>\n",
       "      <td>8.5%</td>\n",
       "      <td>0.3%</td>\n",
       "      <td>35.6%</td>\n",
       "    </tr>\n",
       "  </tbody>\n",
       "</table>\n",
       "</div>"
      ],
      "text/plain": [
       "    Houston, TX Total Population      White Black or African American  \\\n",
       "1      Estimate        4,835,125  2,666,766                 1,046,412   \n",
       "2       Percent        4,835,125      55.2%                     21.6%   \n",
       "\n",
       "  American Indian and Alaska Native    Asian  \\\n",
       "1                           141,031  409,092   \n",
       "2                              2.9%     8.5%   \n",
       "\n",
       "  Native Hawaiian and Other Pacific Islander      Other  \n",
       "1                                     12,471  1,722,952  \n",
       "2                                       0.3%      35.6%  "
      ]
     },
     "execution_count": 10,
     "metadata": {},
     "output_type": "execute_result"
    }
   ],
   "source": [
    "# Rename columns for clarity \n",
    "houston_race_df.columns = ['Houston, TX', \n",
    "                           'Total Population', \n",
    "                           'White', \n",
    "                           'Black or African American', \n",
    "                           'American Indian and Alaska Native', \n",
    "                           'Asian', \n",
    "                           'Native Hawaiian and Other Pacific Islander', \n",
    "                           'Other']\n",
    "\n",
    "# Display\n",
    "houston_race_df.head()\n"
   ]
  },
  {
   "cell_type": "code",
   "execution_count": 11,
   "metadata": {},
   "outputs": [],
   "source": [
    "# Save as new CSV file\n",
    "houston_age_df.to_csv('../houston_data/cleaned_hou_race.csv', index=False)"
   ]
  },
  {
   "cell_type": "markdown",
   "metadata": {},
   "source": [
    "#### Education Level (Table S1501)"
   ]
  },
  {
   "cell_type": "code",
   "execution_count": null,
   "metadata": {},
   "outputs": [],
   "source": [
    "# Import csv file for Texas edu level \n",
    "houston_edu_data = '../houston_data/tx_edu_level.csv'\n",
    "\n",
    "# Read the CSV file into a DataFrame\n",
    "houston_edu_df = pd.read_csv(houston_edu_data)\n",
    "houston_edu_df.head()"
   ]
  },
  {
   "cell_type": "code",
   "execution_count": null,
   "metadata": {},
   "outputs": [],
   "source": [
    "# Display column names and data types\n",
    "print(houston_edu_df.dtypes)"
   ]
  },
  {
   "cell_type": "code",
   "execution_count": null,
   "metadata": {},
   "outputs": [],
   "source": [
    "# Drop unnecessary columns (i.e anything with \"Margin of Error\")\n",
    "houston_edu_df = houston_edu_df.drop(columns=['Texas!!Total!!Margin of Error', \n",
    "                                               'Texas!!Percent!!Margin of Error',\n",
    "                                               'Texas!!Male!!Margin of Error',\n",
    "                                               'Texas!!Percent Male!!Margin of Error',\n",
    "                                               'Texas!!Female!!Margin of Error',\n",
    "                                               'Texas!!Percent Female!!Margin of Error',\n",
    "                                               'Houston-The Woodlands-Sugar Land, TX Metro Area!!Total!!Margin of Error',\n",
    "                                               'Houston-The Woodlands-Sugar Land, TX Metro Area!!Percent!!Margin of Error',\n",
    "                                               'Houston-The Woodlands-Sugar Land, TX Metro Area!!Male!!Margin of Error',\n",
    "                                               'Houston-The Woodlands-Sugar Land, TX Metro Area!!Percent Male!!Margin of Error',\n",
    "                                               'Houston-The Woodlands-Sugar Land, TX Metro Area!!Female!!Margin of Error',\n",
    "                                               'Houston-The Woodlands-Sugar Land, TX Metro Area!!Percent Female!!Margin of Error'\n",
    "                                            ])"
   ]
  },
  {
   "cell_type": "code",
   "execution_count": null,
   "metadata": {},
   "outputs": [],
   "source": [
    "# Drop NaN values\n",
    "houston_edu_df = houston_edu_df.dropna()"
   ]
  },
  {
   "cell_type": "code",
   "execution_count": null,
   "metadata": {},
   "outputs": [],
   "source": [
    "# Rename columns for clarity\n",
    "houston_edu_df = houston_edu_df.rename(columns={\n",
    "    'Label (Grouping)': 'Age by Educational Attainment',\n",
    "    'Texas!!Total!!Estimate': 'Texas Population',\n",
    "    'Texas!!Percent!!Estimate': 'Texas Population %',\n",
    "    'Texas!!Male!!Estimate': 'Male Population',\n",
    "    'Texas!!Percent Male!!Estimate': 'Male Population %',\n",
    "    'Texas!!Female!!Estimate': 'Female Population',\n",
    "    'Texas!!Percent Female!!Estimate': 'Female Population %',\n",
    "    'Houston-The Woodlands-Sugar Land, TX Metro Area!!Total!!Estimate': 'Houston Metro Population',\n",
    "    'Houston-The Woodlands-Sugar Land, TX Metro Area!!Percent!!Estimate': 'Houston Metro Population %',\n",
    "    'Houston-The Woodlands-Sugar Land, TX Metro Area!!Male!!Estimate': 'Houston Male Population',\n",
    "    'Houston-The Woodlands-Sugar Land, TX Metro Area!!Percent Male!!Estimate': 'Houston Male %',\n",
    "    'Houston-The Woodlands-Sugar Land, TX Metro Area!!Female!!Estimate': 'Houston Female Population',\n",
    "    'Houston-The Woodlands-Sugar Land, TX Metro Area!!Percent Female!!Estimate': 'Houston Female %'\n",
    "    })\n",
    "\n",
    "# Display the first few rows of the cleaned DataFrame\n",
    "houston_edu_df.head()"
   ]
  },
  {
   "cell_type": "markdown",
   "metadata": {},
   "source": [
    "    quesiton to ask: will we want to seperate this further??? "
   ]
  },
  {
   "cell_type": "code",
   "execution_count": null,
   "metadata": {},
   "outputs": [],
   "source": [
    "# save as new csv file with cleaned data\n",
    "houston_edu_df.to_csv('../houston_data/cleaned_hou_edu_level.csv', index=False)"
   ]
  },
  {
   "cell_type": "markdown",
   "metadata": {},
   "source": [
    "## Economic Metric\n",
    "\n",
    "**Measuring**: Median Household Income, Unemployment Rate, Poverty Rate.\n",
    "\n",
    "Data for this section was pulled from the Houston 2020 Census Database using various coded tables:\n",
    "* Median Household Income: Table S1901\n",
    "* Unemployment Rate: Table S2301\n",
    "* Poverty Rate: S1501"
   ]
  },
  {
   "cell_type": "markdown",
   "metadata": {},
   "source": [
    "##### Median Household Income (Table S1901)"
   ]
  },
  {
   "cell_type": "code",
   "execution_count": null,
   "metadata": {},
   "outputs": [],
   "source": [
    "# Import csv file from Median Household Income\n",
    "houston_income_data = '../houston_data/tx_median_income.csv'\n",
    "\n",
    "# Read the CSV file into a DataFrame\n",
    "houston_income_df = pd.read_csv(houston_income_data)\n",
    "houston_income_df.head()"
   ]
  },
  {
   "cell_type": "code",
   "execution_count": null,
   "metadata": {},
   "outputs": [],
   "source": [
    "# Display column names and data types\n",
    "print(houston_income_df.dtypes)"
   ]
  },
  {
   "cell_type": "code",
   "execution_count": null,
   "metadata": {},
   "outputs": [],
   "source": [
    "# Drop unnecessary columns (i.e anything with \"Margin of Error\")\n",
    "houston_income_df = houston_income_df.drop(columns=['Texas!!Households!!Margin of Error', \n",
    "                                                     'Texas!!Families!!Margin of Error',\n",
    "                                                     'Texas!!Married-couple families!!Margin of Error',\n",
    "                                                     'Texas!!Nonfamily households!!Margin of Error',\n",
    "                                                     'Houston-The Woodlands-Sugar Land, TX Metro Area!!Households!!Margin of Error',\n",
    "                                                     'Houston-The Woodlands-Sugar Land, TX Metro Area!!Families!!Margin of Error',\n",
    "                                                     'Houston-The Woodlands-Sugar Land, TX Metro Area!!Married-couple families!!Margin of Error',\n",
    "                                                     'Houston-The Woodlands-Sugar Land, TX Metro Area!!Nonfamily households!!Margin of Error'\n",
    "                                                     ])"
   ]
  },
  {
   "cell_type": "code",
   "execution_count": null,
   "metadata": {},
   "outputs": [],
   "source": [
    "# Rename columns for clarity\n",
    "houston_income_df = houston_income_df.rename(columns={\n",
    "    'Label (Grouping)': 'Income Grouping',\n",
    "    'Texas!!Households!!Estimate': 'Texas Households',\n",
    "    'Texas!!Families!!Estimate': 'Texas Families',\n",
    "    'Texas!!Married-couple families!!Estimate': 'Texas Married-couple Households',\n",
    "    'Texas!!Nonfamily households!!Estimate': 'Texas Nonfamily Households',\n",
    "    'Houston-The Woodlands-Sugar Land, TX Metro Area!!Households!!Estimate': 'Houston Metro Households',\n",
    "    'Houston-The Woodlands-Sugar Land, TX Metro Area!!Families!!Estimate': 'Houston Metro Families',\n",
    "    'Houston-The Woodlands-Sugar Land, TX Metro Area!!Married-couple families!!Estimate': 'Houston Metro Married-couple Households',\n",
    "    'Houston-The Woodlands-Sugar Land, TX Metro Area!!Nonfamily households!!Estimate': 'Houston Metro Nonfamily Households'\n",
    "})\n",
    "\n",
    "houston_income_df.head()"
   ]
  },
  {
   "cell_type": "code",
   "execution_count": null,
   "metadata": {},
   "outputs": [],
   "source": [
    "# Save as new csv file with cleaned data\n",
    "houston_income_df.to_csv('../houston_data/cleaned_hou_income.csv', index=False)"
   ]
  },
  {
   "cell_type": "markdown",
   "metadata": {},
   "source": [
    "##### Unemployment Rate (Table S2301)"
   ]
  },
  {
   "cell_type": "code",
   "execution_count": null,
   "metadata": {},
   "outputs": [],
   "source": [
    "# Import csv file from unemployment rate\n",
    "houston_unemployment_data = '../houston_data/tx_employment_status.csv'\n",
    "\n",
    "# Read the CSV file into a DataFrame\n",
    "houston_unemployment_df = pd.read_csv(houston_unemployment_data)\n",
    "houston_unemployment_df.head()"
   ]
  },
  {
   "cell_type": "code",
   "execution_count": null,
   "metadata": {},
   "outputs": [],
   "source": [
    "# Display column names and data types\n",
    "print(houston_unemployment_df.dtypes)"
   ]
  },
  {
   "cell_type": "code",
   "execution_count": null,
   "metadata": {},
   "outputs": [],
   "source": [
    "# Clean data by dropping unnecessary columns (i.e anything with \"Margin of Error\")\n",
    "houston_unemployment_df = houston_unemployment_df.drop(columns=['Texas!!Total!!Margin of Error', \n",
    "                                                                  'Texas!!Labor Force Participation Rate!!Margin of Error', \n",
    "                                                                  'Texas!!Employment/Population Ratio!!Margin of Error',\n",
    "                                                                  'Texas!!Unemployment rate!!Margin of Error',\n",
    "                                                                  'Houston-The Woodlands-Sugar Land, TX Metro Area!!Total!!Margin of Error',\n",
    "                                                                  'Houston-The Woodlands-Sugar Land, TX Metro Area!!Labor Force Participation Rate!!Margin of Error',\n",
    "                                                                  'Houston-The Woodlands-Sugar Land, TX Metro Area!!Employment/Population Ratio!!Margin of Error',\n",
    "                                                                  'Houston-The Woodlands-Sugar Land, TX Metro Area!!Unemployment rate!!Margin of Error'\n",
    "                                                                 ])"
   ]
  },
  {
   "cell_type": "code",
   "execution_count": null,
   "metadata": {},
   "outputs": [],
   "source": [
    "# Drop NaN values\n",
    "houston_unemployment_df = houston_unemployment_df.dropna()"
   ]
  },
  {
   "cell_type": "code",
   "execution_count": null,
   "metadata": {},
   "outputs": [],
   "source": [
    "# Rename for clarity \n",
    "houston_unemployment_df = houston_unemployment_df.rename(columns={\n",
    "    'Label (Grouping)': 'Age',\n",
    "    'Texas!!Total!!Estimate': 'Texas Total',\n",
    "    'Texas!!Labor Force Participation Rate!!Estimate': 'Texas Labor Force Participation Rate',\n",
    "    'Texas!!Employment/Population Ratio!!Estimate': 'Texas Employment/Population Ratio',\n",
    "    'Texas!!Unemployment rate!!Estimate': 'Texas Unemployment Rate',\n",
    "    'Houston-The Woodlands-Sugar Land, TX Metro Area!!Total!!Estimate': 'Houston Metro Total',\n",
    "    'Houston-The Woodlands-Sugar Land, TX Metro Area!!Labor Force Participation Rate!!Estimate': 'Houston Metro Labor Force Participation',\n",
    "    'Houston-The Woodlands-Sugar Land, TX Metro Area!!Employment/Population Ratio!!Estimate': 'Houston Metro Employment/Population Ratio',\n",
    "    'Houston-The Woodlands-Sugar Land, TX Metro Area!!Unemployment rate!!Estimate': 'Houston Metro Unemployment Rate'\n",
    "})\n",
    "\n",
    "# Display the first few rows of the cleaned DataFrame\n",
    "houston_unemployment_df.head()"
   ]
  },
  {
   "cell_type": "code",
   "execution_count": null,
   "metadata": {},
   "outputs": [],
   "source": [
    "# save as new csv file with cleaned data\n",
    "houston_unemployment_df.to_csv('../houston_data/cleaned_hou_unemployment.csv', index=False)"
   ]
  },
  {
   "cell_type": "markdown",
   "metadata": {},
   "source": [
    "#### Poverty Rate (S1501)"
   ]
  },
  {
   "cell_type": "code",
   "execution_count": null,
   "metadata": {},
   "outputs": [],
   "source": [
    "# Import csv file from poverty rate\n",
    "houston_poverty_data = '../houston_data/tx_poverty_rate.csv'\n",
    "\n",
    "# Read the CSV file into a DataFrame\n",
    "houston_poverty_df = pd.read_csv(houston_poverty_data)\n",
    "houston_poverty_df.head()"
   ]
  },
  {
   "cell_type": "code",
   "execution_count": null,
   "metadata": {},
   "outputs": [],
   "source": [
    "# Display column names and data types\n",
    "print(houston_poverty_df.dtypes)"
   ]
  },
  {
   "cell_type": "code",
   "execution_count": null,
   "metadata": {},
   "outputs": [],
   "source": [
    "# Clean data by dropping unnecessary columns (i.e anything with \"Margin of Error\")\n",
    "houston_poverty_df = houston_poverty_df.drop(columns=['Texas!!Total!!Margin of Error',\n",
    "                                                       'Texas!!Below poverty level!!Margin of Error',\n",
    "                                                       'Texas!!Percent below poverty level!!Margin of Error',\n",
    "                                                       'Houston-The Woodlands-Sugar Land, TX Metro Area!!Total!!Margin of Error',\n",
    "                                                       'Houston-The Woodlands-Sugar Land, TX Metro Area!!Below poverty level!!Margin of Error',\n",
    "                                                       'Houston-The Woodlands-Sugar Land, TX Metro Area!!Percent below poverty level!!Margin of Error'\n",
    "                                                      ])"
   ]
  },
  {
   "cell_type": "code",
   "execution_count": null,
   "metadata": {},
   "outputs": [],
   "source": [
    "# Drop NaN values\n",
    "houston_poverty_df = houston_poverty_df.dropna()"
   ]
  },
  {
   "cell_type": "code",
   "execution_count": null,
   "metadata": {},
   "outputs": [],
   "source": [
    "# Rename columns for clarity \n",
    "houston_poverty_df = houston_poverty_df.rename(columns={\n",
    "    'Label (Grouping)': 'Age',\n",
    "    'Texas!!Total!!Estimate': 'Texas Total',\n",
    "    'Texas!!Below poverty level!!Estimate': 'Texas Below Poverty Level',\n",
    "    'Texas!!Percent below poverty level!!Estimate': 'Texas % Below Poverty Level',\n",
    "    'Houston-The Woodlands-Sugar Land, TX Metro Area!!Total!!Estimate': 'Houston Metro Total',\n",
    "    'Houston-The Woodlands-Sugar Land, TX Metro Area!!Below poverty level!!Estimate': 'Houston Metro Below Poverty Level',\n",
    "    'Houston-The Woodlands-Sugar Land, TX Metro Area!!Percent below poverty level!!Estimate': 'Houston Metro % Below Poverty Level'\n",
    "})\n",
    "\n",
    "# Display the first few rows of the cleaned DataFrame\n",
    "houston_poverty_df.head()"
   ]
  },
  {
   "cell_type": "code",
   "execution_count": null,
   "metadata": {},
   "outputs": [],
   "source": [
    "# save as new csv file with cleaned data\n",
    "houston_unemployment_df.to_csv('../houston_data/cleaned_hou_poverty.csv', index=False)"
   ]
  },
  {
   "cell_type": "markdown",
   "metadata": {},
   "source": [
    "## Housing Metric\n",
    "\n",
    "**Measuring**: Median Home Price, Median Rent, Homeownership Rate\n",
    "\n",
    "Data for this section was pulled from the Houston 2020 Census Database using the same table code from the American Community Survey by the U.S. Census Bureau (ACS). \n",
    "* Median Home Price: Table DP04\n",
    "* Median Rent: Table DP04\n",
    "* Homeownership Rate: Table DP04"
   ]
  },
  {
   "cell_type": "code",
   "execution_count": null,
   "metadata": {},
   "outputs": [],
   "source": [
    "# Import csv file from Houston housing metrics\n",
    "houston_housing_data = '../houston_data/tx_housing.csv'\n",
    "\n",
    "# Read the CSV file into a DataFrame\n",
    "houston_housing_df = pd.read_csv(houston_housing_data)\n",
    "houston_housing_df.head()"
   ]
  },
  {
   "cell_type": "markdown",
   "metadata": {},
   "source": [
    "    NOTE: will need to seperate all these out."
   ]
  },
  {
   "cell_type": "code",
   "execution_count": null,
   "metadata": {},
   "outputs": [],
   "source": [
    "# display column names and data types\n",
    "print(houston_housing_df.dtypes)"
   ]
  },
  {
   "cell_type": "code",
   "execution_count": null,
   "metadata": {},
   "outputs": [],
   "source": [
    "# Clean data by dropping unnecessary columns (i.e anything with \"Margin of Error\")\n",
    "houston_housing_df = houston_housing_df.drop(columns=['Texas!!Margin of Error',\n",
    "                                                       'Texas!!Percent Margin of Error',\n",
    "                                                       'Houston-The Woodlands-Sugar Land, TX Metro Area!!Margin of Error',\n",
    "                                                       'Houston-The Woodlands-Sugar Land, TX Metro Area!!Percent Margin of Error'\n",
    "                                                     ])"
   ]
  },
  {
   "cell_type": "code",
   "execution_count": null,
   "metadata": {},
   "outputs": [],
   "source": [
    "# Delete NaN values\n",
    "houston_housing_df = houston_housing_df.dropna()"
   ]
  },
  {
   "cell_type": "code",
   "execution_count": null,
   "metadata": {},
   "outputs": [],
   "source": [
    "# Rename columns for clarity\n",
    "houston_housing_df = houston_housing_df.rename(columns={\n",
    "    'Label (Grouping)': 'Housing Occupancy Status',\n",
    "    'Texas!!Estimate': 'Texas Total',\n",
    "    'Texas!!Percent': 'Texas %',\n",
    "    'Houston-The Woodlands-Sugar Land, TX Metro Area!!Estimate': 'Houston Metro Housing Units',\n",
    "    'Houston-The Woodlands-Sugar Land, TX Metro Area!!Percent': 'Houston Metro % Housing Units'\n",
    "})\n",
    "\n",
    "# Display the first few rows of the cleaned DataFrame\n",
    "houston_housing_df.head()"
   ]
  },
  {
   "cell_type": "code",
   "execution_count": null,
   "metadata": {},
   "outputs": [],
   "source": [
    "# save as new csv file with cleaned data\n",
    "houston_unemployment_df.to_csv('../houston_data/cleaned_hou_housing.csv', index=False)"
   ]
  },
  {
   "cell_type": "markdown",
   "metadata": {},
   "source": [
    "## Quality of Life Metric\n",
    "\n",
    "**Measuring**: Commute Time \n",
    "\n",
    "Data was pulled from the Census Database using the following survey by ASC in 2020. \n",
    "* Commute Time: Table S0801 "
   ]
  },
  {
   "cell_type": "code",
   "execution_count": null,
   "metadata": {},
   "outputs": [],
   "source": [
    "# Import csv file from commute time\n",
    "houston_commute_data = '../houston_data/tx_commute.csv'\n",
    "\n",
    "# Read the CSV file into a DataFrame\n",
    "houston_commute_df = pd.read_csv(houston_commute_data)\n",
    "houston_commute_df.head()"
   ]
  },
  {
   "cell_type": "code",
   "execution_count": null,
   "metadata": {},
   "outputs": [],
   "source": [
    "# Display column names and data types\n",
    "print(houston_commute_df.dtypes)"
   ]
  },
  {
   "cell_type": "code",
   "execution_count": null,
   "metadata": {},
   "outputs": [],
   "source": [
    "# Clean data by dropping unnecessary columns (i.e anything with \"Margin of Error\")\n",
    "columns_to_drop = ['Texas!!Total!!Margin of Error',\n",
    "                   'Texas!!Male!!Margin of Error',\n",
    "                   'Texas!!Female!!Margin of Error',\n",
    "                   'Houston-The Woodlands-Sugar Land, TX Metro Area!!Total!!Margin of Error',\n",
    "                   'Houston-The Woodlands-Sugar Land, TX Metro Area!!Male!!Margin of Error',\n",
    "                   'Houston-The Woodlands-Sugar Land, TX Metro Area!!Female!!Margin of Error']\n",
    "\n",
    "# Check if columns exist before dropping\n",
    "columns_to_drop = [col for col in columns_to_drop if col in houston_commute_df.columns]\n",
    "\n",
    "houston_commute_df = houston_commute_df.drop(columns=columns_to_drop)"
   ]
  },
  {
   "cell_type": "code",
   "execution_count": null,
   "metadata": {},
   "outputs": [],
   "source": [
    "# Delete NaN values\n",
    "houston_commute_df = houston_commute_df.dropna()"
   ]
  },
  {
   "cell_type": "code",
   "execution_count": null,
   "metadata": {},
   "outputs": [],
   "source": [
    "# Rename columns for clarity\n",
    "houston_commute_df = houston_commute_df.rename(columns={\n",
    "    'Label (Grouping)': 'Means of Transportation',\n",
    "    'Texas!!Total!!Estimate': 'Texas Total Commute Time',\n",
    "    'Texas!!Male!!Estimate': 'Male Total',\n",
    "    'Texas!!Female!!Estimate': 'Female Total',\n",
    "    'Houston-The Woodlands-Sugar Land, TX Metro Area!!Total!!Estimate': 'Houston Metro Total',\n",
    "    'Houston-The Woodlands-Sugar Land, TX Metro Area!!Male!!Estimate': 'Houston Male Total',\n",
    "    'Houston-The Woodlands-Sugar Land, TX Metro Area!!Female!!Estimate': 'Houston Female Total'\n",
    "})\n",
    "\n",
    "# Display the first few rows of the cleaned DataFrame\n",
    "houston_commute_df.head()"
   ]
  },
  {
   "cell_type": "code",
   "execution_count": null,
   "metadata": {},
   "outputs": [],
   "source": [
    "# Save as new csv file with cleaned data\n",
    "houston_commute_df.to_csv('../houston_data/cleaned_hou_commute.csv', index=False)"
   ]
  }
 ],
 "metadata": {
  "kernelspec": {
   "display_name": "env1",
   "language": "python",
   "name": "env1"
  },
  "language_info": {
   "codemirror_mode": {
    "name": "ipython",
    "version": 3
   },
   "file_extension": ".py",
   "mimetype": "text/x-python",
   "name": "python",
   "nbconvert_exporter": "python",
   "pygments_lexer": "ipython3",
   "version": "3.11.8"
  }
 },
 "nbformat": 4,
 "nbformat_minor": 2
}
